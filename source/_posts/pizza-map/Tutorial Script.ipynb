{
 "cells": [
  {
   "cell_type": "markdown",
   "metadata": {},
   "source": [
    "# Pizza Routing\n",
    "[This is a companion script for a pgRouting tutorial.]()"
   ]
  },
  {
   "cell_type": "code",
   "execution_count": 1,
   "metadata": {},
   "outputs": [],
   "source": [
    "import psycopg2\n",
    "import csv"
   ]
  },
  {
   "cell_type": "markdown",
   "metadata": {},
   "source": [
    "## Change user='' to your database username"
   ]
  },
  {
   "cell_type": "code",
   "execution_count": 2,
   "metadata": {},
   "outputs": [],
   "source": [
    "conn = psycopg2.connect(\"dbname=routing user=ariel\")\n",
    "cur = conn.cursor()"
   ]
  },
  {
   "cell_type": "markdown",
   "metadata": {},
   "source": [
    "## Find the \"source\" way. \n",
    "This will be the road we route to all the pizza nodes from. To find the 'source' go to https://www.openstreetmap.org/ and find the way you'd like to route from. In my case I used the road in front of Penn Station, https://www.openstreetmap.org/way/195743190."
   ]
  },
  {
   "cell_type": "code",
   "execution_count": 3,
   "metadata": {},
   "outputs": [
    {
     "name": "stdout",
     "output_type": "stream",
     "text": [
      "My source: 181766\n"
     ]
    }
   ],
   "source": [
    "way_osm_id = 195743190\n",
    "cur.execute(\"SELECT source FROM ways WHERE osm_id = %s\", (way_osm_id,))\n",
    "source = cur.fetchone()[0]\n",
    "print(\"My source: \" + str(source))"
   ]
  },
  {
   "cell_type": "markdown",
   "metadata": {},
   "source": [
    "## Get all the pizza nodes."
   ]
  },
  {
   "cell_type": "code",
   "execution_count": 4,
   "metadata": {},
   "outputs": [
    {
     "name": "stdout",
     "output_type": "stream",
     "text": [
      "We're going to route to: 300 pizza nodes.\n"
     ]
    }
   ],
   "source": [
    "cur.execute(\"SELECT * FROM osm_nodes WHERE tag_value = 'pizza'\")\n",
    "osm_ids = []\n",
    "for record in cur:\n",
    "    osm_ids.append(record[0])\n",
    "    \n",
    "print(\"We're going to route to: \" + str(len(osm_ids)) + \" pizza nodes.\")"
   ]
  },
  {
   "cell_type": "markdown",
   "metadata": {},
   "source": [
    "## Find the closest streets to each pizza node."
   ]
  },
  {
   "cell_type": "code",
   "execution_count": 5,
   "metadata": {},
   "outputs": [
    {
     "name": "stdout",
     "output_type": "stream",
     "text": [
      "We've got: 300 nearest streets. Should be the same number as pizza nodes.\n"
     ]
    }
   ],
   "source": [
    "osm_ids_streets = []\n",
    "for osm_id in osm_ids:\n",
    "    cur.execute(\"SELECT source\\\n",
    "        FROM ways\\\n",
    "        ORDER BY ways.the_geom <-> (SELECT the_geom FROM osm_nodes WHERE osm_id = %s limit 10) limit 1;\", (osm_id,))\n",
    "    osm_ids_streets.append(cur.fetchone()[0])\n",
    "\n",
    "print(\"We've got: \" + str(len(osm_ids_streets)) + \" nearest streets. Should be the same number as pizza nodes.\")"
   ]
  },
  {
   "cell_type": "markdown",
   "metadata": {},
   "source": [
    "## This function will output each route to a csv file, which we can then load into QGIS."
   ]
  },
  {
   "cell_type": "code",
   "execution_count": 6,
   "metadata": {},
   "outputs": [],
   "source": [
    "def writeRoute(route):\n",
    "    print(\"writing route of length: \" + str(len(route)))\n",
    "    with open('routes.csv', 'a') as f:\n",
    "        writer = csv.writer(f, lineterminator='\\n')\n",
    "        for r in route:\n",
    "            writer.writerow(r)"
   ]
  },
  {
   "cell_type": "markdown",
   "metadata": {},
   "source": [
    "## Finally, loop through all the nearest streets to each pizza node and route to them from a common source. \n",
    "Tip: add a *break* to the loop and test just one route first!"
   ]
  },
  {
   "cell_type": "code",
   "execution_count": 7,
   "metadata": {},
   "outputs": [
    {
     "name": "stdout",
     "output_type": "stream",
     "text": [
      "writing route of length: 79\n",
      "writing route of length: 94\n",
      "writing route of length: 160\n",
      "writing route of length: 252\n"
     ]
    }
   ],
   "source": [
    "for osm_id in osm_ids_streets:\n",
    "    cur.execute(\"select ST_AsText(the_geom), agg_cost from (SELECT * FROM pgr_dijkstra('\\\n",
    "        SELECT gid as id, source, target, length as cost\\\n",
    "        FROM ways',\\\n",
    "        %s, %s, false)) as x, ways where x.edge = ways.gid;\", (source, osm_id,));\n",
    "    writeRoute(cur.fetchall())"
   ]
  },
  {
   "cell_type": "code",
   "execution_count": null,
   "metadata": {},
   "outputs": [],
   "source": []
  }
 ],
 "metadata": {
  "kernelspec": {
   "display_name": "Python 3",
   "language": "python",
   "name": "python3"
  },
  "language_info": {
   "codemirror_mode": {
    "name": "ipython",
    "version": 3
   },
   "file_extension": ".py",
   "mimetype": "text/x-python",
   "name": "python",
   "nbconvert_exporter": "python",
   "pygments_lexer": "ipython3",
   "version": "3.7.0"
  }
 },
 "nbformat": 4,
 "nbformat_minor": 2
}
